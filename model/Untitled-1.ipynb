{
 "cells": [
  {
   "cell_type": "code",
   "execution_count": 2,
   "metadata": {},
   "outputs": [
    {
     "data": {
      "text/plain": [
       "torch.Size([8, 6, 16384])"
      ]
     },
     "execution_count": 2,
     "metadata": {},
     "output_type": "execute_result"
    }
   ],
   "source": [
    "import torch\n",
    "import torch.nn as nn\n",
    "import torch.nn.functional as F\n",
    "import numpy as np\n",
    "\n",
    "class FourierLayer(nn.Module):\n",
    "    def __init__(self, B, concat_original=True):\n",
    "        super(FourierLayer, self).__init__()\n",
    "        self.B = B\n",
    "        self.concat_original = concat_original\n",
    "\n",
    "    def forward(self, x):\n",
    "        # Applying the transformation for each value in the channel\n",
    "        cos_transform = torch.cos(2 * np.pi * self.B * x)\n",
    "        sin_transform = torch.sin(2 * np.pi * self.B * x)\n",
    "\n",
    "        # Stacking the transformed channels\n",
    "        transformed = torch.stack([cos_transform, sin_transform], dim=1)\n",
    "\n",
    "        # Reshaping to match original shape but with added channels\n",
    "        transformed = transformed.view(x.shape[0], -1, x.shape[2])\n",
    "\n",
    "        # Optionally concatenate with the original data\n",
    "        if self.concat_original:\n",
    "            return torch.cat([x, transformed], dim=1)\n",
    "        else:\n",
    "            return transformed\n",
    "\n",
    "# Testing the FourierLayer\n",
    "dummy_input = torch.randn(8, 2, 16384)\n",
    "fourier_layer = FourierLayer(B=0.1, concat_original=True)\n",
    "fourier_output = fourier_layer(dummy_input)\n",
    "fourier_output.shape\n"
   ]
  }
 ],
 "metadata": {
  "kernelspec": {
   "display_name": "torchGPU",
   "language": "python",
   "name": "python3"
  },
  "language_info": {
   "codemirror_mode": {
    "name": "ipython",
    "version": 3
   },
   "file_extension": ".py",
   "mimetype": "text/x-python",
   "name": "python",
   "nbconvert_exporter": "python",
   "pygments_lexer": "ipython3",
   "version": "3.11.4"
  },
  "orig_nbformat": 4
 },
 "nbformat": 4,
 "nbformat_minor": 2
}
